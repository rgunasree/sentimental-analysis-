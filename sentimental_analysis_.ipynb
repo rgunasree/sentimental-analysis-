{
  "nbformat": 4,
  "nbformat_minor": 0,
  "metadata": {
    "colab": {
      "provenance": [],
      "authorship_tag": "ABX9TyMJCi1UHnm6/FTbUkSa1eLM",
      "include_colab_link": true
    },
    "kernelspec": {
      "name": "python3",
      "display_name": "Python 3"
    },
    "language_info": {
      "name": "python"
    }
  },
  "cells": [
    {
      "cell_type": "markdown",
      "metadata": {
        "id": "view-in-github",
        "colab_type": "text"
      },
      "source": [
        "<a href=\"https://colab.research.google.com/github/rgunasree/sentimental-analysis-/blob/main/sentimental_analysis_.ipynb\" target=\"_parent\"><img src=\"https://colab.research.google.com/assets/colab-badge.svg\" alt=\"Open In Colab\"/></a>"
      ]
    },
    {
      "cell_type": "code",
      "execution_count": 9,
      "metadata": {
        "colab": {
          "base_uri": "https://localhost:8080/"
        },
        "id": "6UGBBZZMLdem",
        "outputId": "3f9b847f-3552-498c-bb68-d50fc12efd64"
      },
      "outputs": [
        {
          "output_type": "stream",
          "name": "stdout",
          "text": [
            "0.8073333333333333 0.6639715394566623\n"
          ]
        }
      ],
      "source": [
        "import pandas as pd\n",
        "import numpy as np\n",
        "\n",
        "df = pd.read_csv('tweets.csv')\n",
        "\n",
        "text = df['tweet_text']\n",
        "\n",
        "target = df['is_there_an_emotion_directed_at_a_brand_or_product']\n",
        "\n",
        "target = target[pd.notnull(text)]\n",
        "text = text[pd.notnull(text)]\n",
        "\n",
        "from sklearn.feature_extraction.text import CountVectorizer, TfidfVectorizer\n",
        "count_vect = CountVectorizer()\n",
        "count_vect.fit(text)\n",
        "counts = count_vect.transform(text)\n",
        "\n",
        "from sklearn.naive_bayes import MultinomialNB\n",
        "from sklearn.linear_model import SGDClassifier\n",
        "clf = MultinomialNB()\n",
        "\n",
        "clf.fit(counts[0:6000], target[0:6000])\n",
        "\n",
        "predictions = clf.predict(counts[6000:9092])\n",
        "correct_predictions = sum(predictions == target[6000:9092])\n",
        "incorrect_predictions = (9092 - 6000) - correct_predictions\n",
        "\n",
        "train_predictions = clf.predict(counts[0:6000])\n",
        "train_correct_predictions = sum(train_predictions == target[0:6000])\n",
        "train_incorrect_predictions = 6000 - train_correct_predictions\n",
        "\n",
        "train_accuracy = train_correct_predictions/(train_correct_predictions+train_incorrect_predictions)\n",
        "val_accuracy = correct_predictions/(correct_predictions+incorrect_predictions)\n",
        "\n",
        "print(train_accuracy, val_accuracy)"
      ]
    }
  ]
}